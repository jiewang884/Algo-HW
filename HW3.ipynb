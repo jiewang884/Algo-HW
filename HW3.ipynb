{
 "cells": [
  {
   "cell_type": "code",
   "execution_count": 3,
   "metadata": {},
   "outputs": [],
   "source": [
    "# 22. Generate Parentheses\n",
    "def generateParenthesis(n):\n",
    "        \"\"\"\n",
    "        :type n: int\n",
    "        :rtype: List[str]\n",
    "        \"\"\"\n",
    "        results = []\n",
    "        dfsHelper(n, 0, 0, results, \"\")\n",
    "        return results\n",
    "        \n",
    "        \n",
    "        \n",
    "def dfsHelper(n, leftCount, rightCount, results, oneResult):\n",
    "    if leftCount > n or rightCount > n or rightCount > leftCount:\n",
    "         return\n",
    "        \n",
    "    if leftCount == n and rightCount == n:\n",
    "        results.append(oneResult)\n",
    "        \n",
    "    dfsHelper(n, leftCount + 1, rightCount, results, oneResult+\"(\")\n",
    "    dfsHelper(n, leftCount, rightCount + 1, results, oneResult+\")\")"
   ]
  },
  {
   "cell_type": "code",
   "execution_count": 6,
   "metadata": {},
   "outputs": [],
   "source": [
    "# 503. Next Greater Element II\n",
    "def nextGreaterElements(self, nums):\n",
    "        \"\"\"\n",
    "        :type nums: List[int]\n",
    "        :rtype: List[int]\n",
    "        \"\"\"\n",
    "        stack = []\n",
    "        l = len(nums)\n",
    "        result = [-1] * l\n",
    "        \n",
    "        for i in range(2 * l):\n",
    "            while len(stack) > 0 and nums[stack[-1]] < nums[i % l]:\n",
    "                result[stack.pop()] = nums[i % l] \n",
    "            if i in range(l):\n",
    "                stack.append(i)\n",
    "        \n",
    "        return result"
   ]
  },
  {
   "cell_type": "code",
   "execution_count": 9,
   "metadata": {},
   "outputs": [],
   "source": [
    "# 145. Binary Tree Postorder Traversal\n",
    "class Solution145:\n",
    "    def postorderTraversal(self, root):\n",
    "        \"\"\"\n",
    "        :type root: TreeNode\n",
    "        :rtype: List[int]\n",
    "        \"\"\"\n",
    "        result = []\n",
    "        self.postTraversalHelper(root, result)\n",
    "        return result\n",
    "    \n",
    "        \n",
    "    def postTraversalHelper(self, root, result):\n",
    "        if root is None:\n",
    "            return\n",
    "            \n",
    "        if root.left is not None:\n",
    "            self.postTraversalHelper(root.left, result)\n",
    "        if root.right is not None:\n",
    "            self.postTraversalHelper(root.right, result)\n",
    "        result.append(root.val)"
   ]
  },
  {
   "cell_type": "code",
   "execution_count": 10,
   "metadata": {},
   "outputs": [],
   "source": [
    "# 144. Binary Tree Preorder Traversal\n",
    "class Solution144:\n",
    "    def preorderTraversal(self, root):\n",
    "        \"\"\"\n",
    "        :type root: TreeNode\n",
    "        :rtype: List[int]\n",
    "        \"\"\"\n",
    "        result = []\n",
    "        self.preorderHelper(root, result)\n",
    "        return result\n",
    "    \n",
    "    def preorderHelper(self, root, result):\n",
    "        if root is None:\n",
    "            return\n",
    "        \n",
    "        result.append(root.val)\n",
    "        if root.left is not None:\n",
    "            self.preorderHelper(root.left, result)\n",
    "        if root.right is not None:\n",
    "            self.preorderHelper(root.right, result)\n"
   ]
  },
  {
   "cell_type": "code",
   "execution_count": null,
   "metadata": {},
   "outputs": [],
   "source": []
  }
 ],
 "metadata": {
  "kernelspec": {
   "display_name": "Python 3",
   "language": "python",
   "name": "python3"
  },
  "language_info": {
   "codemirror_mode": {
    "name": "ipython",
    "version": 3
   },
   "file_extension": ".py",
   "mimetype": "text/x-python",
   "name": "python",
   "nbconvert_exporter": "python",
   "pygments_lexer": "ipython3",
   "version": "3.6.5"
  }
 },
 "nbformat": 4,
 "nbformat_minor": 2
}
