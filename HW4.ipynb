{
 "cells": [
  {
   "cell_type": "code",
   "execution_count": 1,
   "metadata": {},
   "outputs": [],
   "source": [
    "# 323. Number of Connected Components in an Undirected Graph\n",
    "class Solution323:\n",
    "    def countComponents(self, n, edges):\n",
    "        \"\"\"\n",
    "        :type n: int\n",
    "        :type edges: List[List[int]]\n",
    "        :rtype: int\n",
    "        \"\"\"\n",
    "        ids = []\n",
    "        for x in range(n):\n",
    "            ids.append(x)\n",
    "        for edge in edges:\n",
    "            p = edge[0]\n",
    "            q = edge[1]\n",
    "            rootp = self.root(p, ids)\n",
    "            rootq = self.root(q, ids)\n",
    "            ids[rootq] = rootp\n",
    "        \n",
    "        count = 0\n",
    "        for x in range(n):\n",
    "            if x == ids[x]:\n",
    "                count += 1\n",
    "            \n",
    "        \n",
    "        return count\n",
    "        \n",
    "        \n",
    "        \n",
    "        \n",
    "    def root(self, i, ids):\n",
    "        \n",
    "        while i is not ids[i]:\n",
    "            ids[i] = ids[ids[i]]\n",
    "            i = ids[i]\n",
    "        return i"
   ]
  },
  {
   "cell_type": "code",
   "execution_count": null,
   "metadata": {},
   "outputs": [],
   "source": []
  }
 ],
 "metadata": {
  "kernelspec": {
   "display_name": "Python 3",
   "language": "python",
   "name": "python3"
  },
  "language_info": {
   "codemirror_mode": {
    "name": "ipython",
    "version": 3
   },
   "file_extension": ".py",
   "mimetype": "text/x-python",
   "name": "python",
   "nbconvert_exporter": "python",
   "pygments_lexer": "ipython3",
   "version": "3.6.5"
  }
 },
 "nbformat": 4,
 "nbformat_minor": 2
}
