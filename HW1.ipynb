{
 "cells": [
  {
   "cell_type": "code",
   "execution_count": 3,
   "metadata": {},
   "outputs": [],
   "source": [
    "# Best Time to Buy and Sell Stock\n",
    "\n",
    "def maxProfit1(self, prices):\n",
    "        \"\"\"\n",
    "        :type prices: List[int]\n",
    "        :rtype: int\n",
    "        \"\"\"\n",
    "        maxP = 0\n",
    "        minP = sys.maxsize\n",
    "        for x in prices:\n",
    "            minP = min(minP, x)\n",
    "            maxP = max(maxP, x - minP)\n",
    "            \n",
    "        return maxP\n"
   ]
  },
  {
   "cell_type": "code",
   "execution_count": 6,
   "metadata": {},
   "outputs": [],
   "source": [
    "# Best Time to Buy and Sell Stock II\n",
    "\n",
    "def maxProfit(self, prices):\n",
    "        \"\"\"\n",
    "        :type prices: List[int]\n",
    "        :rtype: int\n",
    "        \"\"\"\n",
    "        profit = 0\n",
    "        for i in range(len(prices) - 1):\n",
    "            if prices[i+1] >= prices[i]:\n",
    "                profit += prices[i+1] - prices[i]\n",
    "            \n",
    "        return profit\n"
   ]
  },
  {
   "cell_type": "code",
   "execution_count": 7,
   "metadata": {},
   "outputs": [],
   "source": [
    "# Find All Numbers Disappeared in an Array\n",
    "\n",
    "def findDisappearedNumbers(self, nums):\n",
    "        \"\"\"\n",
    "        :type nums: List[int]\n",
    "        :rtype: List[int]\n",
    "        \"\"\"\n",
    "        result = []\n",
    "        for x in nums:\n",
    "            if nums[abs(x)-1] > 0: \n",
    "                nums[abs(x)-1] *= -1\n",
    "                \n",
    "        for i, x in enumerate(nums):  \n",
    "            if x > 0:\n",
    "                result.append(i+1)\n",
    "                \n",
    "        return result"
   ]
  },
  {
   "cell_type": "code",
   "execution_count": 8,
   "metadata": {},
   "outputs": [],
   "source": [
    "# Majority Element II\n",
    "\n",
    "def majorityElement(self, nums):\n",
    "        \"\"\"\n",
    "        :type nums: List[int]\n",
    "        :rtype: List[int]\n",
    "        \"\"\"\n",
    "        if not nums:\n",
    "            return []\n",
    "        count1, count2, candidate1, candidate2 = 0, 0, 0, 1\n",
    "        for n in nums:\n",
    "            if n == candidate1:\n",
    "                count1 += 1\n",
    "            elif n == candidate2:\n",
    "                count2 += 1\n",
    "            elif count1 == 0:\n",
    "                candidate1, count1 = n, 1\n",
    "            elif count2 == 0:\n",
    "                candidate2, count2 = n, 1\n",
    "            else:\n",
    "                count1, count2 = count1 - 1, count2 - 1\n",
    "        return [n for n in (candidate1, candidate2)\n",
    "                        if nums.count(n) > len(nums) // 3]"
   ]
  },
  {
   "cell_type": "code",
   "execution_count": null,
   "metadata": {},
   "outputs": [],
   "source": []
  }
 ],
 "metadata": {
  "kernelspec": {
   "display_name": "Python 3",
   "language": "python",
   "name": "python3"
  },
  "language_info": {
   "codemirror_mode": {
    "name": "ipython",
    "version": 3
   },
   "file_extension": ".py",
   "mimetype": "text/x-python",
   "name": "python",
   "nbconvert_exporter": "python",
   "pygments_lexer": "ipython3",
   "version": "3.6.5"
  }
 },
 "nbformat": 4,
 "nbformat_minor": 2
}
